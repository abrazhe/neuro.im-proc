{
 "cells": [
  {
   "cell_type": "code",
   "execution_count": 19,
   "id": "dde2095b",
   "metadata": {},
   "outputs": [],
   "source": [
    "import os\n",
    "import sys\n",
    "import itertools as itt\n",
    "\n",
    "from tqdm.auto import tqdm\n",
    "\n",
    "import napari\n",
    "import matplotlib.pyplot as plt\n",
    "%matplotlib inline\n",
    "\n",
    "import scipy\n",
    "from scipy import ndimage as ndi\n",
    "from skimage.filters import threshold_li, threshold_minimum, threshold_triangle\n",
    "from skimage.morphology import remove_small_objects\n",
    "\n",
    "import numpy as np\n",
    "import networkx as nx\n",
    "\n",
    "from pathlib import Path\n",
    "\n",
    "import pickle\n",
    "\n",
    "import ccdb\n",
    "import astromorpho as astro\n",
    "\n",
    "import graph_utils as gu  \n",
    "import visualization as vis\n",
    "\n",
    "import networkx as nx\n",
    "\n",
    "from networx2napari import draw_edges, draw_nodes\n",
    "\n",
    "import astro_graph\n",
    "from astrocyte import Astrocyte\n",
    "import astrobject as ao"
   ]
  },
  {
   "cell_type": "markdown",
   "id": "4aa53aa4",
   "metadata": {},
   "source": [
    "# Параметры для запуска"
   ]
  },
  {
   "cell_type": "code",
   "execution_count": 20,
   "id": "528226f9",
   "metadata": {},
   "outputs": [],
   "source": [
    "if os.path.exists('/home/levtg/astro-morpho'):\n",
    "#     data_dir = '/home/levtg/astro-morpho/data/graphs'\n",
    "    data_dir = '/home/levtg/astro-morpho/src/output/'\n",
    "else:\n",
    "    print(\"Dont know where to look for the data\")\n",
    "\n",
    "output_dir = './output/'\n",
    "\n",
    "filename = '4wk-ly9-raw.pic-sequential_graph.pickle' # Octopus\n",
    "\n",
    "VERBOSE = True\n",
    "\n",
    "# Set false to start from console\n",
    "HANDY = True\n",
    "\n",
    "# Set true to save output\n",
    "OUT = False"
   ]
  },
  {
   "cell_type": "markdown",
   "id": "461840f5",
   "metadata": {},
   "source": [
    "# Оригинальное изображение"
   ]
  },
  {
   "cell_type": "code",
   "execution_count": 21,
   "id": "7b5130af",
   "metadata": {},
   "outputs": [],
   "source": [
    "full_picture_path = Path('/home/levtg/astro-morpho/data/stacks').joinpath('4wk-ly9-raw.pic')"
   ]
  },
  {
   "cell_type": "code",
   "execution_count": 22,
   "id": "06565836",
   "metadata": {},
   "outputs": [],
   "source": [
    "img, meta = ccdb.read_pic(full_picture_path)\n",
    "dims = ccdb.get_axes(meta)\n",
    "zoom = (dims[-1][0]/dims[0][0])"
   ]
  },
  {
   "cell_type": "markdown",
   "id": "8c2d5a94",
   "metadata": {},
   "source": [
    "## Кадрирование"
   ]
  },
  {
   "cell_type": "code",
   "execution_count": 23,
   "id": "ae901f8f",
   "metadata": {},
   "outputs": [],
   "source": [
    "def largest_region(mask):\n",
    "    labels, nlab = ndi.label(mask)\n",
    "    if nlab > 0:\n",
    "        objs = ndi.find_objects(labels)\n",
    "        sizes = [np.sum(labels[o]==k+1) for k,o in enumerate(objs)]\n",
    "        k = np.argmax(sizes)\n",
    "        return labels==k+1\n",
    "    else:\n",
    "        return mask\n",
    "        \n",
    "def crop_image(img, mask=None, margin=0, min_obj_size=0):\n",
    "    if mask is None:\n",
    "        mask = img > 0\n",
    "    if min_obj_size > 0:\n",
    "        mask = remove_small_objects(mask, min_obj_size)\n",
    "    if margin > 0:\n",
    "        mask = ndi.binary_dilation(mask, iterations=margin)\n",
    "    objs = ndi.find_objects(mask)\n",
    "    min_bnds = np.min([[sl.start for sl in o] for o in objs],0)\n",
    "    max_bnds = np.max([[sl.stop for sl in o] for o in objs],0)\n",
    "    crop = tuple(slice(mn,mx) for mn,mx in zip(min_bnds, max_bnds))\n",
    "    return img[crop]"
   ]
  },
  {
   "cell_type": "code",
   "execution_count": 24,
   "id": "ac73f936",
   "metadata": {},
   "outputs": [],
   "source": [
    "max_proj = img.max(0)\n",
    "\n",
    "domain_mask = ndi.binary_dilation(largest_region(remove_small_objects(max_proj > 0.5*threshold_li(max_proj))), iterations=3)\n",
    "domain_mask = ndi.binary_closing(domain_mask,iterations=3)\n",
    "\n",
    "img_cropped = np.array([crop_image(plane,domain_mask, margin=10) for plane in img])\n",
    "max_proj_1 = img_cropped.max(1)\n",
    "domain_mask_1 = ndi.binary_dilation(largest_region(remove_small_objects(max_proj_1 > 0.5*threshold_li(max_proj_1))), iterations=3)\n",
    "domain_mask_1 = ndi.binary_closing(domain_mask_1,iterations=3)\n",
    "\n",
    "img_cropped = np.array([crop_image(img_cropped[:,i],domain_mask_1, margin=10) for i in range(img_cropped.shape[1])]).swapaxes(0,1)"
   ]
  },
  {
   "cell_type": "markdown",
   "id": "68b93afd",
   "metadata": {},
   "source": [
    "## Масштабирование"
   ]
  },
  {
   "cell_type": "code",
   "execution_count": 11,
   "id": "6bdcdf0a",
   "metadata": {},
   "outputs": [],
   "source": [
    "downscale = 2\n",
    "\n",
    "img_noisy = ndi.zoom(img_cropped.astype(np.float32), (1, 1/downscale, 1/downscale))\n",
    "scale = (zoom/downscale, 1, 1)"
   ]
  },
  {
   "cell_type": "markdown",
   "id": "1b668350",
   "metadata": {},
   "source": [
    "## Фильтрация"
   ]
  },
  {
   "cell_type": "code",
   "execution_count": 12,
   "id": "dc58f4eb",
   "metadata": {},
   "outputs": [],
   "source": [
    "def filter_image(image, filter_func):\n",
    "    threshold = filter_func(image)\n",
    "    #img_filt = np.where(image > threshold, image, 0)\n",
    "    pre_mask = ndi.binary_closing(image >= threshold)\n",
    "    pre_mask = remove_small_objects(pre_mask, 5, connectivity=3)\n",
    "    binary_clean = largest_region(pre_mask)\n",
    "    return np.where(binary_clean, image, 0)"
   ]
  },
  {
   "cell_type": "code",
   "execution_count": 13,
   "id": "6608a4b0",
   "metadata": {},
   "outputs": [],
   "source": [
    "img_clear = filter_image(img_noisy, threshold_li)"
   ]
  },
  {
   "cell_type": "code",
   "execution_count": 14,
   "id": "765608c9",
   "metadata": {},
   "outputs": [
    {
     "data": {
      "text/plain": [
       "(55, 460, 308)"
      ]
     },
     "execution_count": 14,
     "metadata": {},
     "output_type": "execute_result"
    }
   ],
   "source": [
    "original_image = img_clear\n",
    "original_image.shape"
   ]
  },
  {
   "cell_type": "markdown",
   "id": "e436d09e",
   "metadata": {},
   "source": [
    "# Чтение обработанных данных"
   ]
  },
  {
   "cell_type": "code",
   "execution_count": 25,
   "id": "fb013580",
   "metadata": {},
   "outputs": [
    {
     "data": {
      "text/plain": [
       "PosixPath('/home/levtg/astro-morpho/src/output/4wk-ly9-raw.pic-sequential_graph.pickle')"
      ]
     },
     "execution_count": 25,
     "metadata": {},
     "output_type": "execute_result"
    }
   ],
   "source": [
    "filepath = Path(data_dir).joinpath(filename)\n",
    "filepath"
   ]
  },
  {
   "cell_type": "code",
   "execution_count": 26,
   "id": "843e0e9b",
   "metadata": {
    "scrolled": true
   },
   "outputs": [
    {
     "name": "stdout",
     "output_type": "stream",
     "text": [
      "CPU times: user 33.4 ms, sys: 69.3 ms, total: 103 ms\n",
      "Wall time: 737 ms\n"
     ]
    }
   ],
   "source": [
    "%time file_data = pickle.load(open(filepath, 'rb'))"
   ]
  },
  {
   "cell_type": "code",
   "execution_count": 27,
   "id": "2a445b34",
   "metadata": {},
   "outputs": [
    {
     "name": "stderr",
     "output_type": "stream",
     "text": [
      "WARNING: Warning: Ignoring XDG_SESSION_TYPE=wayland on Gnome. Use QT_QPA_PLATFORM=wayland to run on Wayland anyway.\n",
      "/home/levtg/astro-morpho/venv/lib64/python3.10/site-packages/napari_tools_menu/__init__.py:179: FutureWarning: Public access to Window.qt_viewer is deprecated and will be removed in\n",
      "v0.5.0. It is considered an \"implementation detail\" of the napari\n",
      "application, not part of the napari viewer model. If your use case\n",
      "requires access to qt_viewer, please open an issue to discuss.\n",
      "  self.tools_menu = ToolsMenu(self, self.qt_viewer.viewer)\n"
     ]
    }
   ],
   "source": [
    "w =  napari.view_image(file_data.image, ndisplay=3, opacity=0.5)\n",
    "vis.view_graph_as_colored_image(file_data.graph, file_data.parameters['shape'], w);"
   ]
  },
  {
   "cell_type": "code",
   "execution_count": 30,
   "id": "1ac8b2c8",
   "metadata": {},
   "outputs": [
    {
     "data": {
      "text/plain": [
       "(55, 464, 312)"
      ]
     },
     "execution_count": 30,
     "metadata": {},
     "output_type": "execute_result"
    }
   ],
   "source": [
    "file_data.image.shape"
   ]
  },
  {
   "cell_type": "code",
   "execution_count": 31,
   "id": "01441ba2",
   "metadata": {},
   "outputs": [],
   "source": [
    "from skimage.draw import ellipsoid\n",
    "from skimage.morphology import erosion"
   ]
  },
  {
   "cell_type": "code",
   "execution_count": 33,
   "id": "d221c5ea",
   "metadata": {},
   "outputs": [],
   "source": [
    "obj = ao.AstrObject(file_data.image)\n",
    "obj.center_detection()"
   ]
  },
  {
   "cell_type": "markdown",
   "id": "9f74d580",
   "metadata": {},
   "source": [
    "# Выделение пропорционального эллипсоида"
   ]
  },
  {
   "cell_type": "code",
   "execution_count": 34,
   "id": "609d353e",
   "metadata": {},
   "outputs": [],
   "source": [
    "def get_ellipsoid(radius, shape):\n",
    "    if radius > shape[0]//2:\n",
    "        raise Exception('Error: radius should be lesser than half of first(minimum) image shape: {}'.format(shape[0]//2))\n",
    "    a=radius\n",
    "    b=radius*shape[1]/shape[0]\n",
    "    c=radius*shape[2]/shape[0]\n",
    "    ell = ellipsoid(a=a, b=b, c=c)\n",
    "    sphere = ell ^ erosion(ell)\n",
    "    return sphere, (a, int(b), int(c))"
   ]
  },
  {
   "cell_type": "code",
   "execution_count": 35,
   "id": "e5d86958",
   "metadata": {},
   "outputs": [],
   "source": [
    "from copy import copy"
   ]
  },
  {
   "cell_type": "code",
   "execution_count": 37,
   "id": "e0a4640d",
   "metadata": {},
   "outputs": [
    {
     "name": "stderr",
     "output_type": "stream",
     "text": [
      "/home/levtg/astro-morpho/venv/lib64/python3.10/site-packages/napari_tools_menu/__init__.py:179: FutureWarning: Public access to Window.qt_viewer is deprecated and will be removed in\n",
      "v0.5.0. It is considered an \"implementation detail\" of the napari\n",
      "application, not part of the napari viewer model. If your use case\n",
      "requires access to qt_viewer, please open an issue to discuss.\n",
      "  self.tools_menu = ToolsMenu(self, self.qt_viewer.viewer)\n"
     ]
    },
    {
     "data": {
      "text/plain": [
       "<Image layer 'Image' at 0x7fb9da9da500>"
      ]
     },
     "execution_count": 37,
     "metadata": {},
     "output_type": "execute_result"
    }
   ],
   "source": [
    "test_image = copy(file_data.image)\n",
    "w = napari.view_image(test_image)\n",
    "w.add_image(file_data.sigma_mask)"
   ]
  },
  {
   "cell_type": "code",
   "execution_count": 38,
   "id": "c8d3b75d",
   "metadata": {},
   "outputs": [],
   "source": [
    "test_image[file_data.sigma_mask > 0] = 0"
   ]
  },
  {
   "cell_type": "code",
   "execution_count": 39,
   "id": "a5b0f3a3",
   "metadata": {},
   "outputs": [
    {
     "data": {
      "text/plain": [
       "(55, 464, 312)"
      ]
     },
     "execution_count": 39,
     "metadata": {},
     "output_type": "execute_result"
    }
   ],
   "source": [
    "image = copy(obj.image)\n",
    "image.shape"
   ]
  },
  {
   "cell_type": "code",
   "execution_count": 40,
   "id": "9b948f47",
   "metadata": {},
   "outputs": [],
   "source": [
    "c = obj.center\n",
    "r = 4\n",
    "image_shape=tuple(map(lambda pair: min(pair[0]-pair[1], pair[1])*2, zip(obj.image.shape, c)))\n",
    "sphere, shape = get_ellipsoid(r, image_shape)"
   ]
  },
  {
   "cell_type": "code",
   "execution_count": 42,
   "id": "dab90fa8",
   "metadata": {},
   "outputs": [
    {
     "data": {
      "text/plain": [
       "(40, 300, 258)"
      ]
     },
     "execution_count": 42,
     "metadata": {},
     "output_type": "execute_result"
    }
   ],
   "source": [
    "image_shape"
   ]
  },
  {
   "cell_type": "code",
   "execution_count": 41,
   "id": "1a45ed49",
   "metadata": {},
   "outputs": [
    {
     "data": {
      "text/plain": [
       "((4, 30, 25), (11, 63, 53))"
      ]
     },
     "execution_count": 41,
     "metadata": {},
     "output_type": "execute_result"
    }
   ],
   "source": [
    "shape, sphere.shape"
   ]
  },
  {
   "cell_type": "markdown",
   "id": "a45ed902",
   "metadata": {},
   "source": [
    "# Расчет zscore на поверхности "
   ]
  },
  {
   "cell_type": "code",
   "execution_count": 15,
   "id": "3c66accc",
   "metadata": {},
   "outputs": [],
   "source": [
    "def down_b(c, r, i):\n",
    "    return c[i]-r[i]-1\n",
    "\n",
    "def up_b(c, r, i):\n",
    "    return c[i]+r[i]+2"
   ]
  },
  {
   "cell_type": "code",
   "execution_count": 16,
   "id": "7b33fb62",
   "metadata": {},
   "outputs": [
    {
     "ename": "NameError",
     "evalue": "name 'test_image' is not defined",
     "output_type": "error",
     "traceback": [
      "\u001b[0;31m---------------------------------------------------------------------------\u001b[0m",
      "\u001b[0;31mNameError\u001b[0m                                 Traceback (most recent call last)",
      "Input \u001b[0;32mIn [16]\u001b[0m, in \u001b[0;36m<cell line: 1>\u001b[0;34m()\u001b[0m\n\u001b[0;32m----> 1\u001b[0m img \u001b[38;5;241m=\u001b[39m \u001b[43mtest_image\u001b[49m[down_b(c,shape,\u001b[38;5;241m0\u001b[39m):up_b(c,shape,\u001b[38;5;241m0\u001b[39m), down_b(c,shape,\u001b[38;5;241m1\u001b[39m):up_b(c,shape,\u001b[38;5;241m1\u001b[39m), down_b(c,shape,\u001b[38;5;241m2\u001b[39m):up_b(c,shape,\u001b[38;5;241m2\u001b[39m)]\n\u001b[1;32m      2\u001b[0m img\u001b[38;5;241m.\u001b[39mshape\n\u001b[1;32m      3\u001b[0m img[\u001b[38;5;241m~\u001b[39msphere] \u001b[38;5;241m=\u001b[39m \u001b[38;5;241m0\u001b[39m\n",
      "\u001b[0;31mNameError\u001b[0m: name 'test_image' is not defined"
     ]
    }
   ],
   "source": [
    "img = test_image[down_b(c,shape,0):up_b(c,shape,0), down_b(c,shape,1):up_b(c,shape,1), down_b(c,shape,2):up_b(c,shape,2)]\n",
    "img.shape\n",
    "img[~sphere] = 0\n",
    "napari.view_image(img)"
   ]
  },
  {
   "cell_type": "code",
   "execution_count": 17,
   "id": "e3b0c07b",
   "metadata": {},
   "outputs": [],
   "source": [
    "data = img[sphere]\n",
    "data.mean(), data.std()\n",
    "zscore = np.zeros(img.shape)\n",
    "zscore[sphere] = np.abs(data-data.mean())/data.std()"
   ]
  },
  {
   "cell_type": "code",
   "execution_count": 18,
   "id": "33d46eb2",
   "metadata": {
    "scrolled": true
   },
   "outputs": [
    {
     "name": "stderr",
     "output_type": "stream",
     "text": [
      "/home/levtg/astro-morpho/venv/lib64/python3.10/site-packages/napari_tools_menu/__init__.py:179: FutureWarning: Public access to Window.qt_viewer is deprecated and will be removed in\n",
      "v0.5.0. It is considered an \"implementation detail\" of the napari\n",
      "application, not part of the napari viewer model. If your use case\n",
      "requires access to qt_viewer, please open an issue to discuss.\n",
      "  self.tools_menu = ToolsMenu(self, self.qt_viewer.viewer)\n"
     ]
    },
    {
     "data": {
      "text/plain": [
       "<Image layer 'zscore' at 0x7f5b6d3d6e30>"
      ]
     },
     "execution_count": 18,
     "metadata": {},
     "output_type": "execute_result"
    }
   ],
   "source": [
    "zscore_old = copy(zscore)\n",
    "w = napari.view_image(zscore_old)\n",
    "zscore[zscore>2] = 0\n",
    "w.add_image(zscore)"
   ]
  },
  {
   "cell_type": "code",
   "execution_count": 19,
   "id": "b7e7a1a4",
   "metadata": {},
   "outputs": [
    {
     "data": {
      "text/plain": [
       "0.0"
      ]
     },
     "execution_count": 19,
     "metadata": {},
     "output_type": "execute_result"
    }
   ],
   "source": [
    "zscore_old.min()"
   ]
  },
  {
   "cell_type": "code",
   "execution_count": 20,
   "id": "5b97a23b",
   "metadata": {},
   "outputs": [
    {
     "data": {
      "text/plain": [
       "<Image layer 'zscore_bool' at 0x7f5b6d3d69e0>"
      ]
     },
     "execution_count": 20,
     "metadata": {},
     "output_type": "execute_result"
    }
   ],
   "source": [
    "zscore_bool = np.zeros(zscore.shape, dtype=bool)\n",
    "zscore_bool[sphere] = (zscore[sphere] > 0) & (img[sphere] > 0)\n",
    "w.add_image(zscore_bool)"
   ]
  },
  {
   "cell_type": "code",
   "execution_count": 21,
   "id": "74ec75b1",
   "metadata": {},
   "outputs": [
    {
     "data": {
      "text/plain": [
       "(array([ 24., 128., 179., 231., 251., 233., 285., 269., 174., 166.]),\n",
       " array([ 11.366725,  31.517862,  51.669   ,  71.82014 ,  91.971275,\n",
       "        112.12241 , 132.27354 , 152.42468 , 172.57582 , 192.72696 ,\n",
       "        212.8781  ], dtype=float32),\n",
       " <BarContainer object of 10 artists>)"
      ]
     },
     "execution_count": 21,
     "metadata": {},
     "output_type": "execute_result"
    },
    {
     "data": {
      "image/png": "[encoded data removed]",
      "text/plain": [
       "<Figure size 432x288 with 1 Axes>"
      ]
     },
     "metadata": {
      "needs_background": "light"
     },
     "output_type": "display_data"
    }
   ],
   "source": [
    "plt.hist(img[zscore_bool])"
   ]
  },
  {
   "cell_type": "markdown",
   "id": "63596d2a",
   "metadata": {},
   "source": [
    "# Расчет распределения яркости \"шубы\" на концентрических эллипсоидах"
   ]
  },
  {
   "cell_type": "code",
   "execution_count": 15,
   "id": "c4056e3b",
   "metadata": {},
   "outputs": [
    {
     "ename": "NameError",
     "evalue": "name 'imag' is not defined",
     "output_type": "error",
     "traceback": [
      "\u001b[0;31m---------------------------------------------------------------------------\u001b[0m",
      "\u001b[0;31mNameError\u001b[0m                                 Traceback (most recent call last)",
      "Input \u001b[0;32mIn [15]\u001b[0m, in \u001b[0;36m<cell line: 1>\u001b[0;34m()\u001b[0m\n\u001b[0;32m----> 1\u001b[0m \u001b[43mimag\u001b[49m\n",
      "\u001b[0;31mNameError\u001b[0m: name 'imag' is not defined"
     ]
    }
   ],
   "source": [
    "imag"
   ]
  },
  {
   "cell_type": "code",
   "execution_count": 22,
   "id": "6d7bd2ca",
   "metadata": {},
   "outputs": [
    {
     "name": "stderr",
     "output_type": "stream",
     "text": [
      "/home/levtg/astro-morpho/venv/lib64/python3.10/site-packages/napari_tools_menu/__init__.py:179: FutureWarning: Public access to Window.qt_viewer is deprecated and will be removed in\n",
      "v0.5.0. It is considered an \"implementation detail\" of the napari\n",
      "application, not part of the napari viewer model. If your use case\n",
      "requires access to qt_viewer, please open an issue to discuss.\n",
      "  self.tools_menu = ToolsMenu(self, self.qt_viewer.viewer)\n"
     ]
    }
   ],
   "source": [
    "c = obj.center\n",
    "image_shape=tuple(map(lambda pair: min(pair[0]-pair[1], pair[1])*2, zip(obj.image.shape, c)))\n",
    "distr = {}\n",
    "full_distr = {}\n",
    "w = napari.Viewer()\n",
    "w.add_image(file_data.image, opacity=0.5)\n",
    "for r in range(4, 20, 3):\n",
    "    sphere, shape = get_ellipsoid(r, image_shape)\n",
    "    img = copy(test_image[down_b(c,shape,0):up_b(c,shape,0), down_b(c,shape,1):up_b(c,shape,1), down_b(c,shape,2):up_b(c,shape,2)])\n",
    "    img[~sphere] = 0\n",
    "    zscore = np.zeros(img.shape)\n",
    "    data = img[sphere]\n",
    "    full_distr[r] = data\n",
    "#     data = chosen_data[chosen_data > 0]\n",
    "    zscore[sphere] = np.abs(data-data.mean())/data.std()\n",
    "#     print(zscore.max())\n",
    "    zscore[zscore>2] = 0\n",
    "#     print(zscore.max())\n",
    "    zscore_bool = np.zeros(zscore.shape, dtype=bool)\n",
    "    zscore_bool[sphere] = (zscore[sphere] > 0) & (img[sphere] > 0)\n",
    "    tmp_image = np.zeros(file_data.image.shape)\n",
    "    tmp_image[down_b(c,shape,0):up_b(c,shape,0), down_b(c,shape,1):up_b(c,shape,1), down_b(c,shape,2):up_b(c,shape,2)][zscore_bool] = img[zscore_bool]\n",
    "    w.add_image(tmp_image, colormap='cyan', name='sphere', blending='additive')\n",
    "#     w.add_image(img)\n",
    "#     w.add_image(zscore)\n",
    "    distr[r] = copy(img[zscore_bool])"
   ]
  },
  {
   "cell_type": "code",
   "execution_count": 23,
   "id": "27d0d6ec",
   "metadata": {},
   "outputs": [
    {
     "data": {
      "text/plain": [
       "<matplotlib.legend.Legend at 0x7f5b2d0798a0>"
      ]
     },
     "execution_count": 23,
     "metadata": {},
     "output_type": "execute_result"
    },
    {
     "data": {
      "image/png": "[encoded data removed]",
      "text/plain": [
       "<Figure size 720x720 with 1 Axes>"
      ]
     },
     "metadata": {
      "needs_background": "light"
     },
     "output_type": "display_data"
    }
   ],
   "source": [
    "hist_kw = dict(bins=100, histtype='step', density=True,  range=(1,250), log=False)\n",
    "\n",
    "\n",
    "plt.figure(figsize=(10,10))\n",
    "\n",
    "data = full_distr[4]\n",
    "\n",
    "mu = data.mean()\n",
    "\n",
    "th = mu + 2 * np.std(data)\n",
    "\n",
    "plt.hist(data,label='sphere', **hist_kw )\n",
    "\n",
    "# plt.hist(distr[4], label='filtered_sphere', **hist_kw)\n",
    "#plt.vlines()\n",
    "plt.hist(file_data.image[file_data.sigma_mask == 8], label='soma', **hist_kw);\n",
    "plt.axvline(th, color='m', ls='--')\n",
    "\n",
    "plt.legend()"
   ]
  },
  {
   "cell_type": "code",
   "execution_count": 24,
   "id": "f5e8ccee",
   "metadata": {},
   "outputs": [
    {
     "data": {
      "text/plain": [
       "1.999927043914795"
      ]
     },
     "execution_count": 24,
     "metadata": {},
     "output_type": "execute_result"
    }
   ],
   "source": [
    "zscore.max()"
   ]
  },
  {
   "cell_type": "code",
   "execution_count": 25,
   "id": "55f8d7a9",
   "metadata": {},
   "outputs": [],
   "source": [
    "sphere, shape = get_ellipsoid(r, image_shape)"
   ]
  },
  {
   "cell_type": "code",
   "execution_count": 30,
   "id": "bc345796",
   "metadata": {},
   "outputs": [],
   "source": [
    "img = copy(obj.image[down_b(c,shape,0):up_b(c,shape,0), down_b(c,shape,1):up_b(c,shape,1), down_b(c,shape,2):up_b(c,shape,2)])\n",
    "img[~sphere] = 0\n",
    "zscore = np.zeros(img.shape)\n",
    "data = img[sphere]"
   ]
  },
  {
   "cell_type": "code",
   "execution_count": 31,
   "id": "696b538d",
   "metadata": {},
   "outputs": [],
   "source": [
    "zscore[sphere] = np.abs(data-data.mean())/data.std()\n",
    "zscore[zscore>2] = 0\n",
    "zscore_bool = np.zeros(zscore.shape, dtype=bool)\n",
    "zscore_bool[sphere] = (zscore[sphere] > 0) & (img[sphere] > 0)"
   ]
  },
  {
   "cell_type": "code",
   "execution_count": 33,
   "id": "c43947ef",
   "metadata": {
    "scrolled": true
   },
   "outputs": [
    {
     "name": "stderr",
     "output_type": "stream",
     "text": [
      "/home/levtg/astro-morpho/venv/lib64/python3.10/site-packages/napari_tools_menu/__init__.py:179: FutureWarning: Public access to Window.qt_viewer is deprecated and will be removed in\n",
      "v0.5.0. It is considered an \"implementation detail\" of the napari\n",
      "application, not part of the napari viewer model. If your use case\n",
      "requires access to qt_viewer, please open an issue to discuss.\n",
      "  self.tools_menu = ToolsMenu(self, self.qt_viewer.viewer)\n"
     ]
    },
    {
     "data": {
      "text/plain": [
       "<Image layer 'zscore_' at 0x7fca955a3640>"
      ]
     },
     "execution_count": 33,
     "metadata": {},
     "output_type": "execute_result"
    }
   ],
   "source": [
    "w = napari.view_image(zscore_bool)\n",
    "w.add_image(zscore)\n",
    "zscore_ = np.zeros(img.shape)\n",
    "zscore_[sphere] = np.abs(data-data.mean())/data.std()\n",
    "w.add_image(zscore_)"
   ]
  },
  {
   "cell_type": "code",
   "execution_count": null,
   "id": "8699b8f6",
   "metadata": {},
   "outputs": [],
   "source": [
    "for "
   ]
  },
  {
   "cell_type": "code",
   "execution_count": 106,
   "id": "5f2525d5",
   "metadata": {},
   "outputs": [
    {
     "data": {
      "text/plain": [
       "{3: array([131.17279 , 119.24965 , 121.50922 , 131.83745 , 134.17049 ,\n",
       "        130.75786 , 134.46602 , 129.72282 , 130.1523  , 112.215034,\n",
       "        117.58899 , 124.271515, 134.31993 ,  99.29454 , 130.59494 ,\n",
       "        126.85038 , 130.88875 , 126.84608 , 120.30811 , 107.15181 ,\n",
       "        111.91774 , 129.70872 ,  88.28433 ,  99.717476, 105.881195,\n",
       "        132.03905 , 112.16744 ,  65.61734 ,  80.43569 , 130.51543 ,\n",
       "         64.98054 ,  61.81431 ,  90.41079 ,  77.92778 ,  84.25467 ,\n",
       "         72.91242 , 109.363594,  75.79258 ,  20.978441,  62.524544,\n",
       "         62.12514 ,  60.573856,  65.86711 ,  79.87209 , 125.49613 ,\n",
       "         35.943462,  45.0326  ,  51.714527,  59.424393, 114.04091 ,\n",
       "        132.64209 ,  42.600536,  56.673733,  47.696033,  71.564575,\n",
       "         93.8479  ,  75.993225,  52.198963,  75.14858 ,  48.044518,\n",
       "         20.010416, 128.0147  ,  95.925446,  69.33201 ,  66.40982 ,\n",
       "        112.766365,  93.91415 ,  52.471348,  44.34956 ,  59.17302 ,\n",
       "         88.67297 ,  51.10194 ,  68.00493 , 125.82567 , 112.40638 ,\n",
       "        122.61455 , 117.55651 , 129.7756  , 128.21011 , 112.64974 ,\n",
       "        113.21968 ,  95.92311 , 102.924934, 109.510506,  76.68399 ,\n",
       "         90.40125 ,  77.54657 , 127.81766 , 120.87528 ,  76.61371 ,\n",
       "         69.28288 ,  70.85685 ,  43.874374,  55.248165,  86.36159 ,\n",
       "        111.868286, 128.8584  ,  92.507095, 107.0842  ,  59.91311 ,\n",
       "         62.082664,  53.32454 ,  94.27203 , 107.6553  , 101.32457 ,\n",
       "        126.98885 ,  84.14004 ,  84.42318 ,  68.38561 , 105.77822 ,\n",
       "         96.81094 ], dtype=float32),\n",
       " 4: array([192.40358, 202.30556, 157.11694, ..., 145.06807, 113.2787 ,\n",
       "        138.32114], dtype=float32),\n",
       " 5: array([159.76294, 205.7924 , 167.82954, ..., 176.38771, 191.01274,\n",
       "        171.22194], dtype=float32),\n",
       " 6: array([123.92328 , 120.998764, 147.78255 , ..., 135.4638  , 154.56691 ,\n",
       "        160.41458 ], dtype=float32),\n",
       " 7: array([ 85.652115,  54.447945,  49.71268 , ..., 127.301605, 124.55114 ,\n",
       "        180.87321 ], dtype=float32),\n",
       " 8: array([ 82.6203  ,  45.333515,  46.777733, ...,  56.56598 ,  56.985058,\n",
       "        160.24417 ], dtype=float32),\n",
       " 9: array([116.66641 ,  35.484154,  44.368103, ...,  65.87922 , 142.18669 ,\n",
       "        104.65546 ], dtype=float32),\n",
       " 10: array([ 63.154152,  44.608295,  44.043   , ..., 129.82486 , 118.20506 ,\n",
       "        110.048134], dtype=float32),\n",
       " 11: array([69.11905 , 46.5982  , 46.847633, ..., 72.26888 , 86.04171 ,\n",
       "        70.55069 ], dtype=float32),\n",
       " 12: array([61.123   , 10.37489 , 50.75404 , ..., 54.684223, 49.339817,\n",
       "        71.41886 ], dtype=float32),\n",
       " 13: array([79.62178 , 72.13216 , 78.01459 , ..., 61.076595, 57.762074,\n",
       "        62.249645], dtype=float32),\n",
       " 14: array([58.351192, 60.41313 , 50.128094, ..., 77.04549 , 67.077484,\n",
       "        93.44986 ], dtype=float32),\n",
       " 15: array([89.23055 , 72.49323 , 43.246338, ..., 69.819695, 39.8601  ,\n",
       "        52.81262 ], dtype=float32),\n",
       " 16: array([53.138035, 48.28535 , 50.231686, ..., 48.025303, 60.82257 ,\n",
       "        55.642197], dtype=float32),\n",
       " 17: array([69.3677  , 57.069984, 49.772694, ..., 79.22817 , 53.687054,\n",
       "        69.63965 ], dtype=float32),\n",
       " 18: array([43.88685 , 45.124714, 50.304634, ..., 64.59309 , 47.971096,\n",
       "        55.42461 ], dtype=float32),\n",
       " 19: array([44.519886, 45.362297, 55.16357 , ..., 12.942423, 39.150284,\n",
       "        32.968407], dtype=float32)}"
      ]
     },
     "execution_count": 106,
     "metadata": {},
     "output_type": "execute_result"
    }
   ],
   "source": [
    "distr"
   ]
  },
  {
   "cell_type": "code",
   "execution_count": 27,
   "id": "b3a987c6",
   "metadata": {},
   "outputs": [
    {
     "data": {
      "image/png": "[encoded data removed]",
      "text/plain": [
       "<Figure size 1080x720 with 1 Axes>"
      ]
     },
     "metadata": {
      "needs_background": "light"
     },
     "output_type": "display_data"
    }
   ],
   "source": [
    "fig, ax = plt.subplots(figsize=(15,10))\n",
    "ax.violinplot(list(distr.values()), positions=np.arange(4, 20, 3), showmeans=True)\n",
    "\n",
    "def set_axis_style(ax, labels):\n",
    "    ax.get_yaxis().set_tick_params(direction='out')\n",
    "    ax.xaxis.set_ticks_position('bottom')\n",
    "#     ax.set_yticks(np.arange(1, len(labels) + 1))\n",
    "#     ax.set_yticklabels(labels)\n",
    "#     ax.set_ylim(0.25, len(labels) + 0.75)\n",
    "    ax.set_xlabel('radius')\n",
    "\n",
    "set_axis_style(ax,list(distr.keys())[::-1])"
   ]
  },
  {
   "cell_type": "code",
   "execution_count": null,
   "id": "8f54d871",
   "metadata": {},
   "outputs": [],
   "source": []
  }
 ],
 "metadata": {
  "kernelspec": {
   "display_name": "venv",
   "language": "python",
   "name": "venv"
  },
  "language_info": {
   "codemirror_mode": {
    "name": "ipython",
    "version": 3
   },
   "file_extension": ".py",
   "mimetype": "text/x-python",
   "name": "python",
   "nbconvert_exporter": "python",
   "pygments_lexer": "ipython3",
   "version": "3.10.8"
  },
  "toc": {
   "base_numbering": 1,
   "nav_menu": {},
   "number_sections": false,
   "sideBar": true,
   "skip_h1_title": false,
   "title_cell": "Table of Contents",
   "title_sidebar": "Contents",
   "toc_cell": false,
   "toc_position": {
    "height": "calc(100% - 180px)",
    "left": "10px",
    "top": "150px",
    "width": "343.967px"
   },
   "toc_section_display": true,
   "toc_window_display": true
  }
 },
 "nbformat": 4,
 "nbformat_minor": 5
}
